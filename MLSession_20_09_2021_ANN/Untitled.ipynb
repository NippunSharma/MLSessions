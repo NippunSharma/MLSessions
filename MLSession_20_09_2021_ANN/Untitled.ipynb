{
 "cells": [
  {
   "cell_type": "markdown",
   "id": "0e93bbac",
   "metadata": {},
   "source": [
    "# Introduction to Deep Learning\n",
    "\n",
    "\n",
    "**What the session is about:**\n",
    "1. Give an introduction to DL / ANN to get you started with them.\n",
    "2. Won't be focussing on maths behind it!\n",
    "3. Focus more on the coding aspect of it.\n",
    "\n",
    "**What do we expect:**\n",
    "1. Go back and try to run this notebook by yourself.\n",
    "2. Play with this notebook --- tweak things here and there.\n",
    "3. Get acquainted with the syntax and libraries.\n",
    "4. See a little bit of theory to get better understanding.\n"
   ]
  },
  {
   "cell_type": "markdown",
   "id": "d120d468",
   "metadata": {},
   "source": [
    "### Building block:- Perceptron\n",
    "\n",
    "- Computation unit. **Input --> Computation --> Output**\n",
    "- Weights are the learnable parameters.\n",
    "- Weights determine importance of input signal in the output signal.\n",
    "\n",
    "<img src=\"perceptron.png\" alt=\"drawing\" width=\"500\"/>\n",
    "\n",
    "### ANN\n",
    "\n",
    "- Stacking a bunch of perceptrons.\n",
    "- Input Layer, Hidden Layer, Output Layer\n",
    "- Hidden Layer --- Extracted features.\n",
    "\n",
    "<img src=\"ann.png\" alt=\"drawing\" width=\"300\"/>\n",
    "\n",
    "### DNN\n",
    "\n",
    "- ANN with lots of hidden layers.\n",
    "\n",
    "<img src=\"deep_nn.jpg\" alt=\"drawing\" width=\"600\"/>\n",
    "\n",
    "1. Image of George Washington given as input.\n",
    "2. Hidden layers extract relevant info from input (features).\n",
    "3. Output layers classifies who the person is."
   ]
  },
  {
   "cell_type": "markdown",
   "id": "ac12a1b7",
   "metadata": {},
   "source": [
    "## Fun part --- Coding !!\n",
    "\n",
    "activation function in model definition.\n",
    "loss function in model.compile\n",
    "\n",
    "**Steps in the whole pipeline:**\n",
    "1. Load and explore the data.\n",
    "2. Data Preprocessing\n",
    "3. Build model\n",
    "4. Build the model again! (Tweak the hyperparameters to get the best model.)\n",
    "5. Again build the model! (Until you get the best model.)\n",
    "6. Make predictions\n",
    "\n"
   ]
  },
  {
   "cell_type": "markdown",
   "id": "0901ad26",
   "metadata": {},
   "source": [
    "### Fashion MNIST\n",
    "\n",
    "- A dataset containing images of clothing items.\n",
    "- Classification task --- 10 classes.\n"
   ]
  },
  {
   "cell_type": "code",
   "execution_count": 1,
   "id": "44f0bdac",
   "metadata": {},
   "outputs": [
    {
     "name": "stdout",
     "output_type": "stream",
     "text": [
      "Init Plugin\n",
      "Init Graph Optimizer\n",
      "Init Kernel\n",
      "2.5.0\n"
     ]
    }
   ],
   "source": [
    "# TensorFlow and tf.keras\n",
    "import tensorflow as tf\n",
    "\n",
    "# Helper libraries\n",
    "import numpy as np\n",
    "import matplotlib.pyplot as plt\n",
    "\n",
    "print(tf.__version__)"
   ]
  },
  {
   "cell_type": "markdown",
   "id": "486730b4",
   "metadata": {},
   "source": [
    "### Data Exploration"
   ]
  },
  {
   "cell_type": "code",
   "execution_count": 2,
   "id": "66612962",
   "metadata": {},
   "outputs": [],
   "source": [
    "## Loading the data\n",
    "## (It will download the data when running for the first time.)\n",
    "fashion_mnist = tf.keras.datasets.fashion_mnist\n",
    "\n",
    "(train_images, train_labels), (test_images, test_labels) = fashion_mnist.load_data()"
   ]
  },
  {
   "cell_type": "code",
   "execution_count": 3,
   "id": "2949cce9",
   "metadata": {},
   "outputs": [],
   "source": [
    "class_names = ['T-shirt/top', 'Trouser', 'Pullover', 'Dress', 'Coat',\n",
    "               'Sandal', 'Shirt', 'Sneaker', 'Bag', 'Ankle boot']"
   ]
  },
  {
   "cell_type": "code",
   "execution_count": 4,
   "id": "5129a06c",
   "metadata": {},
   "outputs": [
    {
     "name": "stdout",
     "output_type": "stream",
     "text": [
      "Shape of training data: (60000, 28, 28)\n",
      "\n",
      "Number of training images: 60000\n",
      "\n",
      "Number of testing images 10000\n",
      "\n",
      "Shape of one image: (28, 28)\n"
     ]
    }
   ],
   "source": [
    "## Overview of dataset.\n",
    "\n",
    "print(\"Shape of training data:\", train_images.shape)\n",
    "print(\"\\nNumber of training images:\", len(train_labels))\n",
    "print(\"\\nNumber of testing images\", len(test_labels))\n",
    "print(\"\\nShape of one image:\", train_images[0].shape)"
   ]
  },
  {
   "cell_type": "code",
   "execution_count": 5,
   "id": "f4294b46",
   "metadata": {},
   "outputs": [
    {
     "data": {
      "text/plain": [
       "0    6000\n",
       "1    6000\n",
       "2    6000\n",
       "3    6000\n",
       "4    6000\n",
       "5    6000\n",
       "6    6000\n",
       "7    6000\n",
       "8    6000\n",
       "9    6000\n",
       "dtype: int64"
      ]
     },
     "execution_count": 5,
     "metadata": {},
     "output_type": "execute_result"
    }
   ],
   "source": [
    "## Number of images in training data for each category.\n",
    "import pandas as pd\n",
    "pd.Series(train_labels).value_counts().sort_index()"
   ]
  },
  {
   "cell_type": "markdown",
   "id": "c0ddac1c",
   "metadata": {},
   "source": [
    "### Data Preprocessing"
   ]
  },
  {
   "cell_type": "code",
   "execution_count": 6,
   "id": "e5340091",
   "metadata": {},
   "outputs": [
    {
     "data": {
      "image/png": "[encoded data removed]",
      "text/plain": [
       "<Figure size 432x288 with 2 Axes>"
      ]
     },
     "metadata": {
      "needs_background": "light"
     },
     "output_type": "display_data"
    }
   ],
   "source": [
    "plt.figure()\n",
    "plt.imshow(train_images[0])\n",
    "plt.colorbar()\n",
    "plt.grid(False)\n",
    "plt.show()"
   ]
  },
  {
   "cell_type": "code",
   "execution_count": 7,
   "id": "ad0fe151",
   "metadata": {},
   "outputs": [],
   "source": [
    "## Scaling the values between [0, 1]\n",
    "\n",
    "## This slightly helps in faster convergence and better accuracy.\n",
    "\n",
    "train_images = train_images / 255.0\n",
    "test_images = test_images / 255.0"
   ]
  },
  {
   "cell_type": "code",
   "execution_count": 11,
   "id": "473f59b7",
   "metadata": {},
   "outputs": [
    {
     "data": {
      "image/png": "[encoded data removed]",
      "text/plain": [
       "<Figure size 720x720 with 25 Axes>"
      ]
     },
     "metadata": {},
     "output_type": "display_data"
    }
   ],
   "source": [
    "plt.figure(figsize=(10,10))\n",
    "for i in range(25):\n",
    "    plt.subplot(5,5,i+1)\n",
    "    plt.xticks([])\n",
    "    plt.yticks([])\n",
    "    plt.grid(False)\n",
    "    plt.imshow(train_images[i], cmap=plt.cm.binary)\n",
    "    plt.xlabel(class_names[train_labels[i]])\n",
    "plt.show()"
   ]
  },
  {
   "cell_type": "markdown",
   "id": "fc575575",
   "metadata": {},
   "source": [
    "### Build Model\n",
    "\n",
    "1. Define the model.\n",
    "2. Compile it --- specify Loss function, optimizer, evaluation metrics\n",
    "3. Train the model."
   ]
  },
  {
   "cell_type": "code",
   "execution_count": 40,
   "id": "71cc7fe5",
   "metadata": {},
   "outputs": [
    {
     "name": "stdout",
     "output_type": "stream",
     "text": [
      "Model: \"sequential_3\"\n",
      "_________________________________________________________________\n",
      "Layer (type)                 Output Shape              Param #   \n",
      "=================================================================\n",
      "flatten_3 (Flatten)          (None, 784)               0         \n",
      "_________________________________________________________________\n",
      "dense_6 (Dense)              (None, 128)               100480    \n",
      "_________________________________________________________________\n",
      "dense_7 (Dense)              (None, 10)                1290      \n",
      "=================================================================\n",
      "Total params: 101,770\n",
      "Trainable params: 101,770\n",
      "Non-trainable params: 0\n",
      "_________________________________________________________________\n"
     ]
    }
   ],
   "source": [
    "## 1. Defining the model.\n",
    "\n",
    "model = tf.keras.Sequential([\n",
    "    ## Flatten the input image from 2D into 1D. (Input Layer)\n",
    "    ## Input shape based on the dataset image.\n",
    "    ## All images must be of same shape!!!\n",
    "    tf.keras.layers.Flatten(input_shape=(28, 28)),\n",
    "    ## Hidden Layer\n",
    "    tf.keras.layers.Dense(128, activation='relu'),\n",
    "    ## Output layer --- size = number of classes = 10\n",
    "    ## Softmax activation function gives the probability of each class\n",
    "    tf.keras.layers.Dense(10, activation='softmax')\n",
    "])\n",
    "\n",
    "model.summary()"
   ]
  },
  {
   "cell_type": "code",
   "execution_count": 41,
   "id": "55cacf90",
   "metadata": {},
   "outputs": [],
   "source": [
    "## 2. Compile the model.\n",
    "\n",
    "model.compile(optimizer='adam',  # Optimizer --- an algorithm which tries to learn weights of the network.\n",
    "              # Loss --- determines the error in prediction.\n",
    "              loss=tf.keras.losses.SparseCategoricalCrossentropy(),\n",
    "              # Metric --- calculates how good the model is performing.\n",
    "              metrics=['accuracy'])"
   ]
  },
  {
   "cell_type": "code",
   "execution_count": 42,
   "id": "3e8dd7e2",
   "metadata": {},
   "outputs": [
    {
     "name": "stdout",
     "output_type": "stream",
     "text": [
      "Epoch 1/2\n",
      "  24/1875 [..............................] - ETA: 8s - loss: 1.3251 - accuracy: 0.5703 "
     ]
    },
    {
     "name": "stderr",
     "output_type": "stream",
     "text": [
      "2021-09-18 19:20:01.395211: I tensorflow/core/grappler/optimizers/custom_graph_optimizer_registry.cc:112] Plugin optimizer for device_type GPU is enabled.\n"
     ]
    },
    {
     "name": "stdout",
     "output_type": "stream",
     "text": [
      "1875/1875 [==============================] - 6s 3ms/step - loss: 0.5000 - accuracy: 0.8241\n",
      "Epoch 2/2\n",
      "1875/1875 [==============================] - 6s 3ms/step - loss: 0.3792 - accuracy: 0.8628\n"
     ]
    }
   ],
   "source": [
    "## 3. Training the model.\n",
    "\n",
    "## Epochs is the number of passes the model takes over the dataset.\n",
    "## History object stores all the information about the model\n",
    "history = model.fit(train_images, train_labels, epochs=2)"
   ]
  },
  {
   "cell_type": "markdown",
   "id": "40ef527e",
   "metadata": {},
   "source": [
    "**The above accuracy is the accuracy on training data which the model has already seen.**"
   ]
  },
  {
   "cell_type": "code",
   "execution_count": 43,
   "id": "0298f21c",
   "metadata": {},
   "outputs": [
    {
     "name": "stdout",
     "output_type": "stream",
     "text": [
      "dict_keys(['loss', 'accuracy'])\n"
     ]
    },
    {
     "data": {
      "image/png": "[encoded data removed]",
      "text/plain": [
       "<Figure size 864x288 with 2 Axes>"
      ]
     },
     "metadata": {
      "needs_background": "light"
     },
     "output_type": "display_data"
    }
   ],
   "source": [
    "print(history.history.keys())\n",
    "\n",
    "fig, axes = plt.subplots(1, 2, figsize=(12, 4))\n",
    "#  \"Accuracy\"\n",
    "axes[0].plot(history.history['accuracy'])\n",
    "axes[0].set_title('model train accuracy')\n",
    "axes[0].set_ylabel('accuracy')\n",
    "axes[0].set_xlabel('epoch')\n",
    "\n",
    "# \"Loss\"\n",
    "axes[1].plot(history.history['loss'])\n",
    "axes[1].set_title('model train loss')\n",
    "axes[1].set_ylabel('loss')\n",
    "axes[1].set_xlabel('epoch');"
   ]
  },
  {
   "cell_type": "code",
   "execution_count": 44,
   "id": "ab2cb959",
   "metadata": {},
   "outputs": [
    {
     "name": "stderr",
     "output_type": "stream",
     "text": [
      "2021-09-18 19:20:19.902368: I tensorflow/core/grappler/optimizers/custom_graph_optimizer_registry.cc:112] Plugin optimizer for device_type GPU is enabled.\n"
     ]
    },
    {
     "name": "stdout",
     "output_type": "stream",
     "text": [
      "313/313 - 1s - loss: 0.4030 - accuracy: 0.8556\n",
      "\n",
      "Test accuracy: 0.8556000590324402\n"
     ]
    }
   ],
   "source": [
    "test_loss, test_acc = model.evaluate(test_images,  test_labels, verbose=2)\n",
    "\n",
    "## Better test accuracy => better generalization.\n",
    "print('\\nTest accuracy:', test_acc)"
   ]
  },
  {
   "cell_type": "markdown",
   "id": "3926acf5",
   "metadata": {},
   "source": [
    "### Making Predictions"
   ]
  },
  {
   "cell_type": "code",
   "execution_count": 69,
   "id": "23a13dac",
   "metadata": {},
   "outputs": [
    {
     "name": "stdout",
     "output_type": "stream",
     "text": [
      "Model expects the input to be of shape:  (None, 28, 28)\n",
      "Shape of our input:  (28, 28)\n",
      "Shape of our input after adding another dim:  (1, 28, 28)\n",
      "\n",
      "Predicted probabilities:\n",
      " [[2.0224141e-05 1.6149674e-07 9.6632730e-06 1.0626729e-06 1.1010465e-05\n",
      "  1.2846148e-01 2.2610755e-06 8.2791060e-02 1.1036398e-03 7.8759944e-01]]\n",
      "\n",
      "Predicted class:  [9]\n",
      "Actual class:  9\n"
     ]
    }
   ],
   "source": [
    "img = test_images[0]\n",
    "\n",
    "# Throws error!!\n",
    "# model.predict(img)\n",
    "print(\"Model expects the input to be of shape: \", model.input.shape)\n",
    "print(\"Shape of our input: \", img.shape)\n",
    "\n",
    "# Adding an extra dimension.\n",
    "img = img[np.newaxis, :, :]\n",
    "print(\"Shape of our input after adding another dim: \", img.shape)\n",
    "\n",
    "# Returns probability of each class\n",
    "print(\"\\nPredicted probabilities:\\n\", model.predict(img))\n",
    "\n",
    "# Returns the predicted class\n",
    "print(\"\\nPredicted class: \", model.predict(img).argmax(axis=1))\n",
    "\n",
    "print(\"Actual class: \", test_labels[0])"
   ]
  },
  {
   "cell_type": "code",
   "execution_count": null,
   "id": "b204e4f7",
   "metadata": {},
   "outputs": [],
   "source": []
  }
 ],
 "metadata": {
  "kernelspec": {
   "display_name": "Python 3 (ipykernel)",
   "language": "python",
   "name": "python3"
  },
  "language_info": {
   "codemirror_mode": {
    "name": "ipython",
    "version": 3
   },
   "file_extension": ".py",
   "mimetype": "text/x-python",
   "name": "python",
   "nbconvert_exporter": "python",
   "pygments_lexer": "ipython3",
   "version": "3.9.6"
  }
 },
 "nbformat": 4,
 "nbformat_minor": 5
}

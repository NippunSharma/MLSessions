{
 "cells": [
  {
   "cell_type": "markdown",
   "metadata": {},
   "source": [
    "# Introduction to Deep Learning\n",
    "\n",
    "\n",
    "**What the session is about:**\n",
    "1. Give an introduction to DL / ANN to get you started with them.\n",
    "2. Won't be focussing on maths behind it!\n",
    "3. Focus more on the coding aspect of it.\n",
    "\n",
    "**What do we expect:**\n",
    "1. Go back and try to run this notebook by yourself.\n",
    "2. Play with this notebook --- tweak things here and there.\n",
    "3. Get acquainted with the syntax and libraries.\n",
    "4. See a little bit of theory to get better understanding.\n",
    "\n",
    "### This notebook contains two tasks highlighted as [TODO::] in cells 7 and 13. You have to do those tasks and come up with the best model which gives the highest accuracy on the test data. Create a pull request(PR) on the repository (https://github.com/NippunSharma/MLSessions). Name of the PR should be \"Name_RollNumber_ANN\".\n"
   ]
  },
  {
   "cell_type": "markdown",
   "metadata": {},
   "source": [
    "### Building block:- Perceptron\n",
    "\n",
    "- Computation unit. **Input --> Computation --> Output**\n",
    "- Weights are the learnable parameters.\n",
    "- Weights determine importance of input signal in the output signal.\n",
    "\n",
    "<img src=\"perceptron.png\" alt=\"drawing\" width=\"500\"/>\n",
    "\n",
    "### ANN\n",
    "\n",
    "- Stacking a bunch of perceptrons.\n",
    "- Input Layer, Hidden Layer, Output Layer\n",
    "- Hidden Layer --- Extracted features.\n",
    "\n",
    "<img src=\"ann.png\" alt=\"drawing\" width=\"300\"/>\n",
    "\n",
    "### DNN\n",
    "\n",
    "- ANN with lots of hidden layers.\n",
    "\n",
    "<img src=\"deep_nn.jpg\" alt=\"drawing\" width=\"600\"/>\n",
    "\n",
    "1. Image of George Washington given as input.\n",
    "2. Hidden layers extract relevant info from input (features).\n",
    "3. Output layers classifies who the person is."
   ]
  },
  {
   "cell_type": "markdown",
   "metadata": {},
   "source": [
    "## Fun part --- Coding !!\n",
    "\n",
    "**Steps in the whole pipeline:**\n",
    "1. Load and explore the data.\n",
    "2. Data Preprocessing\n",
    "3. Build model\n",
    "4. Analyze model and Build it again! (Tweak the hyperparameters to get the best model.)\n",
    "5. Again build the model! (Repeat until you get the best model.)\n",
    "6. Make predictions"
   ]
  },
  {
   "cell_type": "code",
   "execution_count": 1,
   "metadata": {},
   "outputs": [
    {
     "name": "stdout",
     "output_type": "stream",
     "text": [
      "2.4.0\n"
     ]
    }
   ],
   "source": [
    "# TensorFlow and tf.keras\n",
    "import tensorflow as tf\n",
    "\n",
    "# Helper libraries\n",
    "import numpy as np\n",
    "import matplotlib.pyplot as plt\n",
    "\n",
    "print(tf.__version__)"
   ]
  },
  {
   "cell_type": "markdown",
   "metadata": {},
   "source": [
    "### Fashion MNIST\n",
    "\n",
    "- A dataset containing images of clothing items.\n",
    "- Classification task --- 10 classes.\n"
   ]
  },
  {
   "cell_type": "markdown",
   "metadata": {},
   "source": [
    "### Data Exploration"
   ]
  },
  {
   "cell_type": "code",
   "execution_count": 2,
   "metadata": {},
   "outputs": [
    {
     "name": "stdout",
     "output_type": "stream",
     "text": [
      "Downloading data from https://storage.googleapis.com/tensorflow/tf-keras-datasets/train-labels-idx1-ubyte.gz\n",
      "32768/29515 [=================================] - 0s 2us/step\n",
      "Downloading data from https://storage.googleapis.com/tensorflow/tf-keras-datasets/train-images-idx3-ubyte.gz\n",
      "26427392/26421880 [==============================] - 5s 0us/step\n",
      "Downloading data from https://storage.googleapis.com/tensorflow/tf-keras-datasets/t10k-labels-idx1-ubyte.gz\n",
      "8192/5148 [===============================================] - 0s 0us/step\n",
      "Downloading data from https://storage.googleapis.com/tensorflow/tf-keras-datasets/t10k-images-idx3-ubyte.gz\n",
      "4423680/4422102 [==============================] - 1s 0us/step\n"
     ]
    }
   ],
   "source": [
    "## Loading the data\n",
    "## (It will download the data when running for the first time.)\n",
    "fashion_mnist = tf.keras.datasets.fashion_mnist\n",
    "\n",
    "(train_images, train_labels), (test_images, test_labels) = fashion_mnist.load_data()"
   ]
  },
  {
   "cell_type": "code",
   "execution_count": 3,
   "metadata": {},
   "outputs": [],
   "source": [
    "class_names = ['T-shirt/top', 'Trouser', 'Pullover', 'Dress', 'Coat',\n",
    "               'Sandal', 'Shirt', 'Sneaker', 'Bag', 'Ankle boot']"
   ]
  },
  {
   "cell_type": "code",
   "execution_count": 5,
   "metadata": {},
   "outputs": [
    {
     "data": {
      "text/plain": [
       "{0: 'T-shirt/top',\n",
       " 1: 'Trouser',\n",
       " 2: 'Pullover',\n",
       " 3: 'Dress',\n",
       " 4: 'Coat',\n",
       " 5: 'Sandal',\n",
       " 6: 'Shirt',\n",
       " 7: 'Sneaker',\n",
       " 8: 'Bag',\n",
       " 9: 'Ankle boot'}"
      ]
     },
     "execution_count": 5,
     "metadata": {},
     "output_type": "execute_result"
    }
   ],
   "source": [
    "dict_class={}\n",
    "for i in range(10):\n",
    "    dict_class[i]=class_names[i]\n",
    "dict_class"
   ]
  },
  {
   "cell_type": "code",
   "execution_count": 9,
   "metadata": {},
   "outputs": [
    {
     "data": {
      "text/plain": [
       "array([9, 0, 0, ..., 3, 0, 5], dtype=uint8)"
      ]
     },
     "execution_count": 9,
     "metadata": {},
     "output_type": "execute_result"
    }
   ],
   "source": [
    "train_labels"
   ]
  },
  {
   "cell_type": "raw",
   "metadata": {},
   "source": []
  },
  {
   "cell_type": "code",
   "execution_count": 6,
   "metadata": {},
   "outputs": [
    {
     "name": "stdout",
     "output_type": "stream",
     "text": [
      "Shape of training data: (60000, 28, 28)\n",
      "\n",
      "Number of training images: 60000\n",
      "\n",
      "Number of testing images 10000\n",
      "\n",
      "Shape of one image: (28, 28)\n"
     ]
    }
   ],
   "source": [
    "## Overview of dataset.\n",
    "\n",
    "print(\"Shape of training data:\", train_images.shape)\n",
    "print(\"\\nNumber of training images:\", len(train_labels))\n",
    "print(\"\\nNumber of testing images\", len(test_labels))\n",
    "print(\"\\nShape of one image:\", train_images[0].shape)"
   ]
  },
  {
   "cell_type": "code",
   "execution_count": 7,
   "metadata": {},
   "outputs": [
    {
     "data": {
      "text/plain": [
       "0    6000\n",
       "1    6000\n",
       "2    6000\n",
       "3    6000\n",
       "4    6000\n",
       "5    6000\n",
       "6    6000\n",
       "7    6000\n",
       "8    6000\n",
       "9    6000\n",
       "dtype: int64"
      ]
     },
     "execution_count": 7,
     "metadata": {},
     "output_type": "execute_result"
    }
   ],
   "source": [
    "## Number of images in training data for each category.\n",
    "import pandas as pd\n",
    "pd.Series(train_labels).value_counts().sort_index()"
   ]
  },
  {
   "cell_type": "markdown",
   "metadata": {},
   "source": [
    "### Data Preprocessing"
   ]
  },
  {
   "cell_type": "code",
   "execution_count": 17,
   "metadata": {},
   "outputs": [
    {
     "data": {
      "image/png": "[encoded data removed]",
      "text/plain": [
       "<Figure size 432x288 with 2 Axes>"
      ]
     },
     "metadata": {
      "needs_background": "light"
     },
     "output_type": "display_data"
    }
   ],
   "source": [
    "plt.figure()\n",
    "plt.imshow(train_images[0])\n",
    "plt.colorbar()\n",
    "plt.grid(False)\n",
    "plt.show()"
   ]
  },
  {
   "cell_type": "code",
   "execution_count": 135,
   "metadata": {},
   "outputs": [],
   "source": [
    "## Scaling the values between [0, 1]\n",
    "\n",
    "## This slightly helps in faster convergence and better accuracy.\n",
    "## [TODO]:: Try training without this scaling and compare the performance.\n",
    "\n",
    "train_images = train_images / 255.0\n",
    "test_images = test_images / 255.0\n",
    "\n",
    "# train_images = train_images # training time increases slightly,decrease(not very significant) in test accuracy\n",
    "# test_images = test_images"
   ]
  },
  {
   "cell_type": "markdown",
   "metadata": {},
   "source": [
    "### Build Model\n",
    "\n",
    "1. Define the model.\n",
    "2. Compile it --- specify Loss function, optimizer, evaluation metrics\n",
    "3. Train the model."
   ]
  },
  {
   "cell_type": "code",
   "execution_count": 19,
   "metadata": {},
   "outputs": [
    {
     "name": "stdout",
     "output_type": "stream",
     "text": [
      "Model: \"sequential\"\n",
      "_________________________________________________________________\n",
      "Layer (type)                 Output Shape              Param #   \n",
      "=================================================================\n",
      "flatten (Flatten)            (None, 784)               0         \n",
      "_________________________________________________________________\n",
      "dense (Dense)                (None, 128)               100480    \n",
      "_________________________________________________________________\n",
      "dense_1 (Dense)              (None, 10)                1290      \n",
      "=================================================================\n",
      "Total params: 101,770\n",
      "Trainable params: 101,770\n",
      "Non-trainable params: 0\n",
      "_________________________________________________________________\n"
     ]
    }
   ],
   "source": [
    "## 1. Defining the model.\n",
    "\n",
    "model = tf.keras.Sequential([\n",
    "    ## Flatten the input image from 2D into 1D. (Input Layer)\n",
    "    ## Input shape based on the dataset image.\n",
    "    ## All images must be of same shape!!!\n",
    "    tf.keras.layers.Flatten(input_shape=(28, 28)),\n",
    "    ## Hidden Layer\n",
    "    tf.keras.layers.Dense(128, activation='relu'),\n",
    "    ## Output layer --- size = number of classes = 10\n",
    "    ## Softmax activation function gives the probability of each class\n",
    "    tf.keras.layers.Dense(10, activation='softmax')\n",
    "])\n",
    "\n",
    "## Activation function is a non linear function which is applied to each layer in the network.\n",
    "\n",
    "model.summary()"
   ]
  },
  {
   "cell_type": "code",
   "execution_count": 20,
   "metadata": {},
   "outputs": [],
   "source": [
    "## 2. Compile the model.\n",
    "\n",
    "model.compile(optimizer='adam',  # Optimizer --- an algorithm which tries to learn weights of the network.\n",
    "              # Loss --- measures the error in prediction.\n",
    "              loss=tf.keras.losses.SparseCategoricalCrossentropy(),\n",
    "              # Metric --- calculates how good the model is performing.\n",
    "              metrics=['accuracy'])"
   ]
  },
  {
   "cell_type": "code",
   "execution_count": 21,
   "metadata": {},
   "outputs": [
    {
     "name": "stdout",
     "output_type": "stream",
     "text": [
      "Epoch 1/2\n",
      "1875/1875 [==============================] - 2s 787us/step - loss: 0.6339 - accuracy: 0.7804\n",
      "Epoch 2/2\n",
      "1875/1875 [==============================] - 2s 843us/step - loss: 0.3852 - accuracy: 0.8633\n"
     ]
    }
   ],
   "source": [
    "## 3. Training the model.\n",
    "\n",
    "## Epochs is the number of passes the model takes over the dataset.\n",
    "## History object stores all the information about the model\n",
    "history = model.fit(train_images, train_labels, epochs=2)"
   ]
  },
  {
   "cell_type": "markdown",
   "metadata": {},
   "source": [
    "**The above accuracy is the accuracy on training data which the model has already seen.**"
   ]
  },
  {
   "cell_type": "markdown",
   "metadata": {},
   "source": [
    "### Analyze Model (Very Very Imp.)\n",
    "\n",
    "<pre><strong>Key Question to ask:     What to do once a model is trained??</strong></pre>\n",
    "\n",
    "- Check accuracy / loss or any other metric.\n",
    "- Check Generalizability of model (performance on test data)\n",
    "- Bias / Variance Tradeoff\n",
    "\n",
    "<br>\n",
    "<br>\n",
    "\n",
    "Bias = 100 - train_acc\n",
    "\n",
    "Variance = train_acc - test_acc\n",
    "\n",
    "|               | Train Acc High         | Train Acc Low                      |\n",
    "|---------------|------------------------|------------------------------------|\n",
    "| Test High Acc | Low bias, Low var      | High bias, High var (not possible) |\n",
    "| Test Low Acc  | Low bias, High var     | High bias, Low var                 |\n",
    "\n",
    "\n",
    "\n",
    "Ask yourself question:-\n",
    "\n",
    "1. Is the bias high?\n",
    "        - Bigger network\n",
    "        - Train longer (more epochs)\n",
    "2. Is variance high?\n",
    "        - Get more data\n",
    "        - Add regularization\n",
    "           "
   ]
  },
  {
   "cell_type": "code",
   "execution_count": 23,
   "metadata": {},
   "outputs": [
    {
     "name": "stdout",
     "output_type": "stream",
     "text": [
      "dict_keys(['loss', 'accuracy'])\n"
     ]
    },
    {
     "data": {
      "image/png": "[encoded data removed]",
      "text/plain": [
       "<Figure size 864x288 with 2 Axes>"
      ]
     },
     "metadata": {
      "needs_background": "light"
     },
     "output_type": "display_data"
    }
   ],
   "source": [
    "print(history.history.keys())\n",
    "\n",
    "fig, axes = plt.subplots(1, 2, figsize=(12, 4))\n",
    "#  \"Accuracy\"\n",
    "axes[0].plot(history.history['accuracy'])\n",
    "axes[0].set_title('model train accuracy')\n",
    "axes[0].set_ylabel('accuracy')\n",
    "axes[0].set_xlabel('epoch')\n",
    "\n",
    "# \"Loss\"\n",
    "axes[1].plot(history.history['loss'])\n",
    "axes[1].set_title('model train loss')\n",
    "axes[1].set_ylabel('loss')\n",
    "axes[1].set_xlabel('epoch');"
   ]
  },
  {
   "cell_type": "code",
   "execution_count": 24,
   "metadata": {},
   "outputs": [
    {
     "name": "stdout",
     "output_type": "stream",
     "text": [
      "313/313 - 0s - loss: 0.3685 - accuracy: 0.8645\n",
      "\n",
      "Test accuracy: 0.8644999861717224\n"
     ]
    }
   ],
   "source": [
    "test_loss, test_acc = model.evaluate(test_images,  test_labels, verbose=2)\n",
    "\n",
    "## Better test accuracy => better generalization.\n",
    "print('\\nTest accuracy:', test_acc)"
   ]
  },
  {
   "cell_type": "markdown",
   "metadata": {},
   "source": [
    "### Build Model Again\n",
    "\n",
    "- Deep Learning is an iterative process.\n",
    "- Try different hyperparameters.\n",
    "- Analyze the model."
   ]
  },
  {
   "cell_type": "code",
   "execution_count": null,
   "metadata": {},
   "outputs": [],
   "source": [
    "## [TODO]:: Try different values for the following and analyze the model:\n",
    "##    1. Number of layers\n",
    "##    2. Number of perceptrons in each layer\n",
    "##    3. Activation Functions for each layer\n",
    "##    4. Optimizer\n",
    "##    5. Loss function\n",
    "\n",
    "\n",
    "## Some commonly used optimizers:\n",
    "##   1. Adam\n",
    "##   2. RMSProp\n",
    "##   3. SGD (Stochastic Gradient Descent)\n",
    "\n",
    "## https://www.tensorflow.org/api_docs/python/tf/keras/optimizers\n",
    "\n",
    "## Some commonly used loss functions:\n",
    "##   1. Binary Cross Entropy (Binary Classification)\n",
    "##   2. Categorical Cross Entropy (Multiclass Classification, One hot encoded labels)\n",
    "##   3. Sparse Categorical Cross Entropy (Multiclass classification, Integer Labels)\n",
    "##   4. Mean Squared Error (Regression)\n",
    "##   5. Mean Absolute Error (Regression)\n",
    "\n",
    "## https://www.tensorflow.org/api_docs/python/tf/keras/losses\n",
    "\n",
    "## Some commonly used activation functions:\n",
    "##   1. Relu\n",
    "##   2. Sigmoid\n",
    "##   3. Tanh\n",
    "##   4. Softmax (mostly used for the output layer of classification)\n",
    "\n",
    "## https://www.tensorflow.org/api_docs/python/tf/keras/activations"
   ]
  },
  {
   "cell_type": "code",
   "execution_count": 30,
   "metadata": {},
   "outputs": [
    {
     "name": "stdout",
     "output_type": "stream",
     "text": [
      "Epoch 1/3\n",
      "1875/1875 [==============================] - 2s 1ms/step - loss: 0.6443 - accuracy: 0.7724\n",
      "Epoch 2/3\n",
      "1875/1875 [==============================] - 2s 990us/step - loss: 0.3855 - accuracy: 0.8606\n",
      "Epoch 3/3\n",
      "1875/1875 [==============================] - 2s 993us/step - loss: 0.3484 - accuracy: 0.8761\n",
      "313/313 - 0s - loss: 0.3849 - accuracy: 0.8710\n",
      "\n",
      "Test accuracy: 0.8709999918937683\n"
     ]
    }
   ],
   "source": [
    "## 1. Defining the model.\n",
    "\n",
    "model = tf.keras.Sequential([\n",
    "    ## Flatten the input image from 2D into 1D. (Input Layer)\n",
    "    ## Input shape based on the dataset image.\n",
    "    ## All images must be of same shape!!!\n",
    "    tf.keras.layers.Flatten(input_shape=(28, 28)),\n",
    "    ## Hidden Layer\n",
    "    tf.keras.layers.Dense(128, activation='relu'),\n",
    "    ## Output layer --- size = number of classes = 10\n",
    "    ## Softmax activation function gives the probability of each class\n",
    "    tf.keras.layers.Dense(10, activation='softmax')\n",
    "])\n",
    "\n",
    "## Activation function is a non linear function which is applied to each layer in the network.\n",
    "\n",
    "# model.summary()\n",
    "\n",
    "## 2. Compile the model.\n",
    "\n",
    "model.compile(optimizer='RMSProp',  # Optimizer --- an algorithm which tries to learn weights of the network.\n",
    "              # Loss --- measures the error in prediction.\n",
    "              loss=tf.keras.losses.SparseCategoricalCrossentropy(),\n",
    "              # Metric --- calculates how good the model is performing.\n",
    "              metrics=['accuracy'])\n",
    "\n",
    "history = model.fit(train_images, train_labels, epochs=3)\n",
    "\n",
    "test_loss, test_acc = model.evaluate(test_images,  test_labels, verbose=2)\n",
    "\n",
    "## Better test accuracy => better generalization.\n",
    "print('\\nTest accuracy:', test_acc)"
   ]
  },
  {
   "cell_type": "code",
   "execution_count": 56,
   "metadata": {},
   "outputs": [
    {
     "name": "stdout",
     "output_type": "stream",
     "text": [
      "Epoch 1/3\n",
      "1875/1875 [==============================] - 3s 1ms/step - loss: 0.6457 - accuracy: 0.7765\n",
      "Epoch 2/3\n",
      "1875/1875 [==============================] - 2s 1ms/step - loss: 0.3856 - accuracy: 0.8588\n",
      "Epoch 3/3\n",
      "1875/1875 [==============================] - 2s 1ms/step - loss: 0.3467 - accuracy: 0.8755\n",
      "\n",
      "Test accuracy: 0.8651000261306763\n"
     ]
    }
   ],
   "source": [
    "## 1. Defining the model.\n",
    "\n",
    "model = tf.keras.Sequential([\n",
    "    ## Flatten the input image from 2D into 1D. (Input Layer)\n",
    "    ## Input shape based on the dataset image.\n",
    "    ## All images must be of same shape!!!\n",
    "    tf.keras.layers.Flatten(input_shape=(28, 28)),\n",
    "    ## Hidden Layer\n",
    "    tf.keras.layers.Dense(128, activation='relu'),\n",
    "    ## Output layer --- size = number of classes = 10\n",
    "    ## Softmax activation function gives the probability of each class\n",
    "    tf.keras.layers.Dense(20, activation='softmax')\n",
    "])\n",
    "\n",
    "## Activation function is a non linear function which is applied to each layer in the network.\n",
    "\n",
    "# model.summary()\n",
    "\n",
    "## 2. Compile the model.\n",
    "\n",
    "model.compile(optimizer='RMSProp',  # Optimizer --- an algorithm which tries to learn weights of the network.\n",
    "              # Loss --- measures the error in prediction.\n",
    "              loss=tf.keras.losses.SparseCategoricalCrossentropy(),\n",
    "              # Metric --- calculates how good the model is performing.\n",
    "              metrics=['accuracy'])\n",
    "\n",
    "history = model.fit(train_images, train_labels, epochs=3)\n",
    "\n",
    "test_loss, test_acc = model.evaluate(test_images,  test_labels, verbose=0)\n",
    "\n",
    "## Better test accuracy => better generalization.\n",
    "print('\\nTest accuracy:', test_acc)"
   ]
  },
  {
   "cell_type": "code",
   "execution_count": 78,
   "metadata": {},
   "outputs": [],
   "source": [
    "def train_model(hidden,output,optimizer_tech,epo):\n",
    "    model = tf.keras.Sequential([\n",
    "        tf.keras.layers.Flatten(input_shape=(28, 28)),\n",
    "        tf.keras.layers.Dense(128, activation=hidden),\n",
    "        tf.keras.layers.Dense(10, activation=output)\n",
    "    ])\n",
    "    model.compile(optimizer=optimizer_tech,\n",
    "                  loss=tf.keras.losses.SparseCategoricalCrossentropy(),\n",
    "                  metrics=['accuracy'])\n",
    "\n",
    "    history = model.fit(train_images, train_labels, epochs=epo)\n",
    "\n",
    "    train_loss,train_acc= model.evaluate(train_images,  train_labels, verbose=2)\n",
    "    test_loss, test_acc = model.evaluate(test_images,  test_labels, verbose=2)\n",
    "\n",
    "#     print('\\nTrain accuracy:', train_acc)\n",
    "#     print('Test accuracy:', test_acc)\n",
    "    tup=(hidden,output,optimizer_tech)\n",
    "#     print('\\n',tup,'\\n')\n",
    "    return (train_acc,test_acc,tup)"
   ]
  },
  {
   "cell_type": "code",
   "execution_count": 79,
   "metadata": {},
   "outputs": [
    {
     "name": "stdout",
     "output_type": "stream",
     "text": [
      "1875/1875 [==============================] - 2s 758us/step - loss: 0.7296 - accuracy: 0.7620\n",
      "1875/1875 - 1s - loss: 0.4273 - accuracy: 0.8447\n",
      "313/313 - 1s - loss: 0.4644 - accuracy: 0.8280\n"
     ]
    },
    {
     "data": {
      "text/plain": [
       "(0.8447166681289673, 0.828000009059906, ('sigmoid', 'softmax', 'Adam'))"
      ]
     },
     "execution_count": 79,
     "metadata": {},
     "output_type": "execute_result"
    }
   ],
   "source": [
    "loss_fn=['relu','sigmoid','tanh','softmax']\n",
    "optimizers=['Adam','RMSProp']\n",
    "x=train_model('sigmoid','softmax','Adam',1)\n",
    "x"
   ]
  },
  {
   "cell_type": "code",
   "execution_count": 86,
   "metadata": {},
   "outputs": [],
   "source": [
    "values=[]"
   ]
  },
  {
   "cell_type": "code",
   "execution_count": null,
   "metadata": {},
   "outputs": [],
   "source": [
    "\n",
    "for i in loss_fn:\n",
    "    for j in loss_fn:\n",
    "        for k in optimizers:\n",
    "            values.append(train_model(i,j,k,2))\n",
    "        \n",
    "# train_model('relu','softmax','RMSProp',2)\n",
    "print('\\n\\n\\n')\n",
    "print(values)"
   ]
  },
  {
   "cell_type": "code",
   "execution_count": 88,
   "metadata": {},
   "outputs": [
    {
     "data": {
      "text/plain": [
       "[(0.10000000149011612, 0.10000000149011612, ('relu', 'relu', 'Adam')),\n",
       " (0.14264999330043793, 0.14380000531673431, ('relu', 'relu', 'RMSProp')),\n",
       " (0.8756666779518127, 0.8575999736785889, ('relu', 'sigmoid', 'Adam')),\n",
       " (0.8805999755859375, 0.8611999750137329, ('relu', 'sigmoid', 'RMSProp')),\n",
       " (0.21709999442100525, 0.2184000015258789, ('relu', 'tanh', 'Adam')),\n",
       " (0.101133331656456, 0.10440000146627426, ('relu', 'tanh', 'RMSProp')),\n",
       " (0.8786333203315735, 0.8618999719619751, ('relu', 'softmax', 'Adam')),\n",
       " (0.8696833252906799, 0.8532999753952026, ('relu', 'softmax', 'RMSProp')),\n",
       " (0.10001666843891144, 0.10000000149011612, ('sigmoid', 'relu', 'Adam')),\n",
       " (0.10613333433866501, 0.1071000024676323, ('sigmoid', 'relu', 'RMSProp')),\n",
       " (0.8714666962623596, 0.8561999797821045, ('sigmoid', 'sigmoid', 'Adam')),\n",
       " (0.868399977684021, 0.8511999845504761, ('sigmoid', 'sigmoid', 'RMSProp')),\n",
       " (0.09688333421945572, 0.09780000150203705, ('sigmoid', 'tanh', 'Adam')),\n",
       " (0.14401666820049286, 0.1428000032901764, ('sigmoid', 'tanh', 'RMSProp')),\n",
       " (0.8737666606903076, 0.8575999736785889, ('sigmoid', 'softmax', 'Adam')),\n",
       " (0.8710833191871643, 0.8557000160217285, ('sigmoid', 'softmax', 'RMSProp')),\n",
       " (0.10721666365861893, 0.10790000110864639, ('tanh', 'relu', 'Adam')),\n",
       " (0.11665000021457672, 0.11800000071525574, ('tanh', 'relu', 'RMSProp')),\n",
       " (0.8718166947364807, 0.8536999821662903, ('tanh', 'sigmoid', 'Adam')),\n",
       " (0.8798166513442993, 0.8611999750137329, ('tanh', 'sigmoid', 'RMSProp')),\n",
       " (0.12759999930858612, 0.1316000074148178, ('tanh', 'tanh', 'Adam')),\n",
       " (0.10845000296831131, 0.10660000145435333, ('tanh', 'tanh', 'RMSProp')),\n",
       " (0.8753166794776917, 0.8589000105857849, ('tanh', 'softmax', 'Adam')),\n",
       " (0.878849983215332, 0.8611000180244446, ('tanh', 'softmax', 'RMSProp')),\n",
       " (0.10000000149011612, 0.09989999979734421, ('softmax', 'relu', 'Adam')),\n",
       " (0.1343500018119812, 0.1348000019788742, ('softmax', 'relu', 'RMSProp')),\n",
       " (0.6934000253677368, 0.6858999729156494, ('softmax', 'sigmoid', 'Adam')),\n",
       " (0.7069500088691711, 0.6973999738693237, ('softmax', 'sigmoid', 'RMSProp')),\n",
       " (0.07970000058412552, 0.07890000194311142, ('softmax', 'tanh', 'Adam')),\n",
       " (0.29536667466163635, 0.29260000586509705, ('softmax', 'tanh', 'RMSProp')),\n",
       " (0.7543833255767822, 0.7450000047683716, ('softmax', 'softmax', 'Adam')),\n",
       " (0.7700833082199097, 0.7592999935150146, ('softmax', 'softmax', 'RMSProp'))]"
      ]
     },
     "execution_count": 88,
     "metadata": {},
     "output_type": "execute_result"
    }
   ],
   "source": [
    "values"
   ]
  },
  {
   "cell_type": "code",
   "execution_count": 92,
   "metadata": {},
   "outputs": [],
   "source": [
    "best_val=[(0.8756666779518127, 0.8575999736785889, ('relu', 'sigmoid', 'Adam')),\n",
    " (0.8805999755859375, 0.8611999750137329, ('relu', 'sigmoid', 'RMSProp')),\n",
    "(0.8786333203315735, 0.8618999719619751, ('relu', 'softmax', 'Adam')),\n",
    " (0.8696833252906799, 0.8532999753952026, ('relu', 'softmax', 'RMSProp')),\n",
    "(0.8714666962623596, 0.8561999797821045, ('sigmoid', 'sigmoid', 'Adam')),\n",
    " (0.868399977684021, 0.8511999845504761, ('sigmoid', 'sigmoid', 'RMSProp')),\n",
    "(0.8737666606903076, 0.8575999736785889, ('sigmoid', 'softmax', 'Adam')),\n",
    " (0.8710833191871643, 0.8557000160217285, ('sigmoid', 'softmax', 'RMSProp')),\n",
    "(0.8718166947364807, 0.8536999821662903, ('tanh', 'sigmoid', 'Adam')),\n",
    "(0.8753166794776917, 0.8589000105857849, ('tanh', 'softmax', 'Adam')),\n",
    " (0.878849983215332, 0.8611000180244446, ('tanh', 'softmax', 'RMSProp'))]\n",
    "refined_val=[]"
   ]
  },
  {
   "cell_type": "code",
   "execution_count": 103,
   "metadata": {},
   "outputs": [
    {
     "name": "stdout",
     "output_type": "stream",
     "text": [
      "Epoch 1/3\n",
      "1875/1875 [==============================] - 2s 814us/step - loss: 0.6320 - accuracy: 0.7828\n",
      "Epoch 2/3\n",
      "1875/1875 [==============================] - 2s 820us/step - loss: 0.3847 - accuracy: 0.8623\n",
      "Epoch 3/3\n",
      "1875/1875 [==============================] - 2s 913us/step - loss: 0.3438 - accuracy: 0.8762\n",
      "1875/1875 - 1s - loss: 0.3138 - accuracy: 0.8837\n",
      "313/313 - 0s - loss: 0.3779 - accuracy: 0.8618\n",
      "Epoch 1/3\n",
      "1875/1875 [==============================] - 2s 1ms/step - loss: 0.6365 - accuracy: 0.7765\n",
      "Epoch 2/3\n",
      "1875/1875 [==============================] - 2s 1ms/step - loss: 0.3799 - accuracy: 0.8618\n",
      "Epoch 3/3\n",
      "1875/1875 [==============================] - 2s 1ms/step - loss: 0.3422 - accuracy: 0.8778\n",
      "1875/1875 - 2s - loss: 0.3208 - accuracy: 0.8877\n",
      "313/313 - 0s - loss: 0.3916 - accuracy: 0.8665\n",
      "Epoch 1/3\n",
      "1875/1875 [==============================] - 2s 826us/step - loss: 0.6322 - accuracy: 0.7774\n",
      "Epoch 2/3\n",
      "1875/1875 [==============================] - 2s 820us/step - loss: 0.3821 - accuracy: 0.8622\n",
      "Epoch 3/3\n",
      "1875/1875 [==============================] - 1s 775us/step - loss: 0.3395 - accuracy: 0.8751\n",
      "1875/1875 - 1s - loss: 0.3244 - accuracy: 0.8788\n",
      "313/313 - 0s - loss: 0.3851 - accuracy: 0.8582\n",
      "Epoch 1/3\n",
      "1875/1875 [==============================] - 2s 1ms/step - loss: 0.6432 - accuracy: 0.7760\n",
      "Epoch 2/3\n",
      "1875/1875 [==============================] - 2s 1ms/step - loss: 0.3876 - accuracy: 0.8619\n",
      "Epoch 3/3\n",
      "1875/1875 [==============================] - 2s 1ms/step - loss: 0.3502 - accuracy: 0.8761\n",
      "1875/1875 - 2s - loss: 0.3331 - accuracy: 0.8800\n",
      "313/313 - 1s - loss: 0.4014 - accuracy: 0.8611\n",
      "Epoch 1/3\n",
      "1875/1875 [==============================] - 2s 806us/step - loss: 0.7332 - accuracy: 0.7610\n",
      "Epoch 2/3\n",
      "1875/1875 [==============================] - 2s 872us/step - loss: 0.4037 - accuracy: 0.8555\n",
      "Epoch 3/3\n",
      "1875/1875 [==============================] - 2s 873us/step - loss: 0.3631 - accuracy: 0.8707\n",
      "1875/1875 - 2s - loss: 0.3334 - accuracy: 0.8780\n",
      "313/313 - 1s - loss: 0.3854 - accuracy: 0.8619\n",
      "Epoch 1/3\n",
      "1875/1875 [==============================] - 2s 1ms/step - loss: 0.6874 - accuracy: 0.7721\n",
      "Epoch 2/3\n",
      "1875/1875 [==============================] - 2s 1ms/step - loss: 0.4028 - accuracy: 0.8549\n",
      "Epoch 3/3\n",
      "1875/1875 [==============================] - 2s 1ms/step - loss: 0.3579 - accuracy: 0.8698\n",
      "1875/1875 - 1s - loss: 0.3351 - accuracy: 0.8801\n",
      "313/313 - 0s - loss: 0.3863 - accuracy: 0.8624\n",
      "Epoch 1/3\n",
      "1875/1875 [==============================] - 2s 820us/step - loss: 0.7318 - accuracy: 0.7578\n",
      "Epoch 2/3\n",
      "1875/1875 [==============================] - 2s 829us/step - loss: 0.4057 - accuracy: 0.8524\n",
      "Epoch 3/3\n",
      "1875/1875 [==============================] - 2s 831us/step - loss: 0.3568 - accuracy: 0.8719\n",
      "1875/1875 - 2s - loss: 0.3406 - accuracy: 0.8775\n",
      "313/313 - 0s - loss: 0.3893 - accuracy: 0.8595\n",
      "Epoch 1/3\n",
      "1875/1875 [==============================] - 2s 1ms/step - loss: 0.6962 - accuracy: 0.7719\n",
      "Epoch 2/3\n",
      "1875/1875 [==============================] - 2s 1ms/step - loss: 0.4001 - accuracy: 0.8564\n",
      "Epoch 3/3\n",
      "1875/1875 [==============================] - 2s 1ms/step - loss: 0.3634 - accuracy: 0.8706\n",
      "1875/1875 - 2s - loss: 0.3424 - accuracy: 0.8761\n",
      "313/313 - 0s - loss: 0.3941 - accuracy: 0.8601\n",
      "Epoch 1/3\n",
      "1875/1875 [==============================] - 2s 832us/step - loss: 0.5926 - accuracy: 0.7894\n",
      "Epoch 2/3\n",
      "1875/1875 [==============================] - 2s 841us/step - loss: 0.3727 - accuracy: 0.8642\n",
      "Epoch 3/3\n",
      "1875/1875 [==============================] - 2s 858us/step - loss: 0.3351 - accuracy: 0.8760\n",
      "1875/1875 - 1s - loss: 0.3064 - accuracy: 0.8881\n",
      "313/313 - 0s - loss: 0.3671 - accuracy: 0.8677\n",
      "Epoch 1/3\n",
      "1875/1875 [==============================] - 2s 1ms/step - loss: 0.5972 - accuracy: 0.7903\n",
      "Epoch 2/3\n",
      "1875/1875 [==============================] - 2s 998us/step - loss: 0.3717 - accuracy: 0.8666\n",
      "Epoch 3/3\n",
      "1875/1875 [==============================] - 2s 1ms/step - loss: 0.3329 - accuracy: 0.8769\n",
      "1875/1875 - 2s - loss: 0.3166 - accuracy: 0.8824\n",
      "313/313 - 1s - loss: 0.3794 - accuracy: 0.8636\n",
      "Epoch 1/3\n",
      "1875/1875 [==============================] - 2s 1ms/step - loss: 0.6066 - accuracy: 0.7841\n",
      "Epoch 2/3\n",
      "1875/1875 [==============================] - 2s 1ms/step - loss: 0.3839 - accuracy: 0.8602\n",
      "Epoch 3/3\n",
      "1875/1875 [==============================] - 2s 1ms/step - loss: 0.3421 - accuracy: 0.8759\n",
      "1875/1875 - 1s - loss: 0.3347 - accuracy: 0.8777\n",
      "313/313 - 0s - loss: 0.3941 - accuracy: 0.8540\n"
     ]
    }
   ],
   "source": [
    "for val in best_val:\n",
    "    i,j,k=val[2][0],val[2][1],val[2][2]\n",
    "    refined_val.append(train_model(i,j,k,3))"
   ]
  },
  {
   "cell_type": "code",
   "execution_count": 94,
   "metadata": {},
   "outputs": [
    {
     "data": {
      "text/plain": [
       "[(0.8803499937057495, 0.8607000112533569, ('relu', 'sigmoid', 'Adam')),\n",
       " (0.8910166621208191, 0.8690000176429749, ('relu', 'sigmoid', 'RMSProp')),\n",
       " (0.889549970626831, 0.8676000237464905, ('relu', 'softmax', 'Adam')),\n",
       " (0.886650025844574, 0.8659999966621399, ('relu', 'softmax', 'RMSProp')),\n",
       " (0.8801166415214539, 0.8654000163078308, ('sigmoid', 'sigmoid', 'Adam')),\n",
       " (0.8828833103179932, 0.8636999726295471, ('sigmoid', 'sigmoid', 'RMSProp')),\n",
       " (0.8800666928291321, 0.8605999946594238, ('sigmoid', 'softmax', 'Adam')),\n",
       " (0.8765333294868469, 0.8586999773979187, ('sigmoid', 'softmax', 'RMSProp')),\n",
       " (0.8862000107765198, 0.8661999702453613, ('tanh', 'sigmoid', 'Adam')),\n",
       " (0.8774833083152771, 0.8568000197410583, ('tanh', 'softmax', 'Adam')),\n",
       " (0.8912166953086853, 0.8707000017166138, ('tanh', 'softmax', 'RMSProp'))]"
      ]
     },
     "execution_count": 94,
     "metadata": {},
     "output_type": "execute_result"
    }
   ],
   "source": [
    "refined_val"
   ]
  },
  {
   "cell_type": "code",
   "execution_count": 108,
   "metadata": {},
   "outputs": [
    {
     "data": {
      "text/plain": [
       "[(0.8837166428565979, 0.8618000149726868, ('relu', 'sigmoid', 'Adam')),\n",
       " (0.887666642665863, 0.8665000200271606, ('relu', 'sigmoid', 'RMSProp')),\n",
       " (0.8787500262260437, 0.8582000136375427, ('relu', 'softmax', 'Adam')),\n",
       " (0.8799999952316284, 0.8611000180244446, ('relu', 'softmax', 'RMSProp')),\n",
       " (0.8779833316802979, 0.8618999719619751, ('sigmoid', 'sigmoid', 'Adam')),\n",
       " (0.8800666928291321, 0.8623999953269958, ('sigmoid', 'sigmoid', 'RMSProp')),\n",
       " (0.8774999976158142, 0.859499990940094, ('sigmoid', 'softmax', 'Adam')),\n",
       " (0.8761166930198669, 0.8600999712944031, ('sigmoid', 'softmax', 'RMSProp')),\n",
       " (0.8881000280380249, 0.8676999807357788, ('tanh', 'sigmoid', 'Adam')),\n",
       " (0.8824333548545837, 0.8636000156402588, ('tanh', 'softmax', 'Adam')),\n",
       " (0.8777499794960022, 0.8539999723434448, ('tanh', 'softmax', 'RMSProp'))]"
      ]
     },
     "execution_count": 108,
     "metadata": {},
     "output_type": "execute_result"
    }
   ],
   "source": [
    "refined_val_3=refined_val[6:]\n",
    "refined_val_3"
   ]
  },
  {
   "cell_type": "code",
   "execution_count": 109,
   "metadata": {},
   "outputs": [
    {
     "name": "stdout",
     "output_type": "stream",
     "text": [
      "Epoch 1/5\n",
      "1875/1875 [==============================] - 2s 1ms/step - loss: 0.6289 - accuracy: 0.7755\n",
      "Epoch 2/5\n",
      "1875/1875 [==============================] - 2s 1ms/step - loss: 0.3876 - accuracy: 0.8618\n",
      "Epoch 3/5\n",
      "1875/1875 [==============================] - 2s 1ms/step - loss: 0.3470 - accuracy: 0.8758\n",
      "Epoch 4/5\n",
      "1875/1875 [==============================] - 2s 1ms/step - loss: 0.3243 - accuracy: 0.8833\n",
      "Epoch 5/5\n",
      "1875/1875 [==============================] - 2s 1ms/step - loss: 0.3079 - accuracy: 0.8921\n",
      "1875/1875 - 1s - loss: 0.2891 - accuracy: 0.8963\n",
      "313/313 - 0s - loss: 0.3852 - accuracy: 0.8750\n"
     ]
    },
    {
     "data": {
      "text/plain": [
       "(0.8963333368301392, 0.875, ('relu', 'sigmoid', 'RMSProp'))"
      ]
     },
     "execution_count": 109,
     "metadata": {},
     "output_type": "execute_result"
    }
   ],
   "source": [
    "# ('relu', 'sigmoid', 'RMSProp') and ('tanh', 'sigmoid', 'Adam') show best consistent accuracy\n",
    "train_model('relu', 'sigmoid', 'RMSProp',5)"
   ]
  },
  {
   "cell_type": "code",
   "execution_count": 115,
   "metadata": {},
   "outputs": [],
   "source": [
    "# Tweaking layers\n",
    "\n",
    "def train_model2(hidden_layers,output_layers,epo):\n",
    "    model = tf.keras.Sequential([\n",
    "        tf.keras.layers.Flatten(input_shape=(28, 28)),\n",
    "        tf.keras.layers.Dense(hidden_layers, activation='relu'),\n",
    "        tf.keras.layers.Dense(output_layers, activation='sigmoid')\n",
    "    ])\n",
    "    model.compile(optimizer='RMSProp',\n",
    "                  loss=tf.keras.losses.SparseCategoricalCrossentropy(),\n",
    "                  metrics=['accuracy'])\n",
    "\n",
    "    history = model.fit(train_images, train_labels, epochs=epo)\n",
    "\n",
    "    train_loss,train_acc= model.evaluate(train_images,  train_labels, verbose=2)\n",
    "    test_loss, test_acc = model.evaluate(test_images,  test_labels, verbose=2)\n",
    "\n",
    "#     print('\\nTrain accuracy:', train_acc)\n",
    "#     print('Test accuracy:', test_acc)\n",
    "    tup=(hidden_layers,output_layers)\n",
    "#     print('\\n',tup,'\\n')\n",
    "    return (train_acc,test_acc,tup)"
   ]
  },
  {
   "cell_type": "code",
   "execution_count": 129,
   "metadata": {},
   "outputs": [
    {
     "name": "stdout",
     "output_type": "stream",
     "text": [
      "Epoch 1/10\n",
      "1875/1875 [==============================] - 3s 1ms/step - loss: 0.6343 - accuracy: 0.7770\n",
      "Epoch 2/10\n",
      "1875/1875 [==============================] - 3s 2ms/step - loss: 0.3790 - accuracy: 0.8651\n",
      "Epoch 3/10\n",
      "1875/1875 [==============================] - 3s 2ms/step - loss: 0.3494 - accuracy: 0.8774\n",
      "Epoch 4/10\n",
      "1875/1875 [==============================] - 3s 2ms/step - loss: 0.3313 - accuracy: 0.8853\n",
      "Epoch 5/10\n",
      "1875/1875 [==============================] - 3s 2ms/step - loss: 0.3174 - accuracy: 0.8916\n",
      "Epoch 6/10\n",
      "1875/1875 [==============================] - 3s 2ms/step - loss: 0.3103 - accuracy: 0.8952\n",
      "Epoch 7/10\n",
      "1875/1875 [==============================] - 3s 2ms/step - loss: 0.2984 - accuracy: 0.8995\n",
      "Epoch 8/10\n",
      "1875/1875 [==============================] - 3s 2ms/step - loss: 0.2934 - accuracy: 0.9023\n",
      "Epoch 9/10\n",
      "1875/1875 [==============================] - 3s 2ms/step - loss: 0.2869 - accuracy: 0.9048\n",
      "Epoch 10/10\n",
      "1875/1875 [==============================] - 3s 2ms/step - loss: 0.2840 - accuracy: 0.9061\n",
      "1875/1875 - 1s - loss: 0.2523 - accuracy: 0.9149\n",
      "313/313 - 0s - loss: 0.4310 - accuracy: 0.8788\n"
     ]
    },
    {
     "data": {
      "text/plain": [
       "(0.9148666858673096, 0.8787999749183655, (256, 10))"
      ]
     },
     "execution_count": 129,
     "metadata": {},
     "output_type": "execute_result"
    }
   ],
   "source": [
    "train_model2(256,10,10)"
   ]
  },
  {
   "cell_type": "code",
   "execution_count": 128,
   "metadata": {},
   "outputs": [
    {
     "name": "stdout",
     "output_type": "stream",
     "text": [
      "Epoch 1/7\n",
      "1875/1875 [==============================] - 3s 1ms/step - loss: 0.6385 - accuracy: 0.7747\n",
      "Epoch 2/7\n",
      "1875/1875 [==============================] - 3s 1ms/step - loss: 0.3826 - accuracy: 0.8627\n",
      "Epoch 3/7\n",
      "1875/1875 [==============================] - 3s 1ms/step - loss: 0.3423 - accuracy: 0.8785\n",
      "Epoch 4/7\n",
      "1875/1875 [==============================] - 3s 1ms/step - loss: 0.3327 - accuracy: 0.8835\n",
      "Epoch 5/7\n",
      "1875/1875 [==============================] - 3s 1ms/step - loss: 0.3216 - accuracy: 0.8885\n",
      "Epoch 6/7\n",
      "1875/1875 [==============================] - 3s 2ms/step - loss: 0.3038 - accuracy: 0.8946\n",
      "Epoch 7/7\n",
      "1875/1875 [==============================] - 3s 2ms/step - loss: 0.2991 - accuracy: 0.8986\n",
      "1875/1875 - 1s - loss: 0.2940 - accuracy: 0.9044\n",
      "313/313 - 0s - loss: 0.4415 - accuracy: 0.8780\n"
     ]
    },
    {
     "data": {
      "text/plain": [
       "(0.9043833613395691, 0.878000020980835, (256, 10))"
      ]
     },
     "execution_count": 128,
     "metadata": {},
     "output_type": "execute_result"
    }
   ],
   "source": [
    "train_model2(256,10,7)"
   ]
  },
  {
   "cell_type": "code",
   "execution_count": 132,
   "metadata": {},
   "outputs": [
    {
     "name": "stdout",
     "output_type": "stream",
     "text": [
      "Epoch 1/7\n",
      "1875/1875 [==============================] - 2s 1ms/step - loss: 0.5824 - accuracy: 0.7929\n",
      "Epoch 2/7\n",
      "1875/1875 [==============================] - 2s 1ms/step - loss: 0.3707 - accuracy: 0.8670\n",
      "Epoch 3/7\n",
      "1875/1875 [==============================] - 2s 1ms/step - loss: 0.3344 - accuracy: 0.8764\n",
      "Epoch 4/7\n",
      "1875/1875 [==============================] - 2s 1ms/step - loss: 0.3107 - accuracy: 0.8844\n",
      "Epoch 5/7\n",
      "1875/1875 [==============================] - 2s 1ms/step - loss: 0.2921 - accuracy: 0.8924\n",
      "Epoch 6/7\n",
      "1875/1875 [==============================] - 2s 1ms/step - loss: 0.2714 - accuracy: 0.9001\n",
      "Epoch 7/7\n",
      "1875/1875 [==============================] - 2s 1ms/step - loss: 0.2633 - accuracy: 0.9023\n",
      "1875/1875 - 1s - loss: 0.2403 - accuracy: 0.9123\n",
      "313/313 - 0s - loss: 0.3323 - accuracy: 0.8812\n",
      "\n",
      "Train accuracy: 0.9123499989509583\n",
      "Test accuracy: 0.8812000155448914\n"
     ]
    }
   ],
   "source": [
    "#('tanh', 'sigmoid', 'Adam')\n",
    "# Tweaking layers\n",
    "\n",
    "model = tf.keras.Sequential([\n",
    "    tf.keras.layers.Flatten(input_shape=(28, 28)),\n",
    "    tf.keras.layers.Dense(256, activation='tanh'),\n",
    "    tf.keras.layers.Dense(10, activation='sigmoid')\n",
    "])\n",
    "model.compile(optimizer='Adam',\n",
    "              loss=tf.keras.losses.SparseCategoricalCrossentropy(),\n",
    "              metrics=['accuracy'])\n",
    "\n",
    "history = model.fit(train_images, train_labels, epochs=7)\n",
    "\n",
    "train_loss,train_acc= model.evaluate(train_images,  train_labels, verbose=2)\n",
    "test_loss, test_acc = model.evaluate(test_images,  test_labels, verbose=2)\n",
    "\n",
    "print('\\nTrain accuracy:', train_acc)\n",
    "print('Test accuracy:', test_acc)"
   ]
  },
  {
   "cell_type": "code",
   "execution_count": 133,
   "metadata": {},
   "outputs": [
    {
     "name": "stdout",
     "output_type": "stream",
     "text": [
      "Epoch 1/10\n",
      "1875/1875 [==============================] - 3s 1ms/step - loss: 0.5630 - accuracy: 0.7972\n",
      "Epoch 2/10\n",
      "1875/1875 [==============================] - 3s 1ms/step - loss: 0.3751 - accuracy: 0.8606\n",
      "Epoch 3/10\n",
      "1875/1875 [==============================] - 2s 1ms/step - loss: 0.3362 - accuracy: 0.8764\n",
      "Epoch 4/10\n",
      "1875/1875 [==============================] - 2s 1ms/step - loss: 0.3107 - accuracy: 0.8858\n",
      "Epoch 5/10\n",
      "1875/1875 [==============================] - 3s 1ms/step - loss: 0.2933 - accuracy: 0.8921\n",
      "Epoch 6/10\n",
      "1875/1875 [==============================] - 3s 1ms/step - loss: 0.2729 - accuracy: 0.8974\n",
      "Epoch 7/10\n",
      "1875/1875 [==============================] - 3s 1ms/step - loss: 0.2643 - accuracy: 0.9014\n",
      "Epoch 8/10\n",
      "1875/1875 [==============================] - 2s 1ms/step - loss: 0.2555 - accuracy: 0.9049\n",
      "Epoch 9/10\n",
      "1875/1875 [==============================] - 2s 1ms/step - loss: 0.2453 - accuracy: 0.9088\n",
      "Epoch 10/10\n",
      "1875/1875 [==============================] - 2s 1ms/step - loss: 0.2367 - accuracy: 0.9121\n",
      "1875/1875 - 1s - loss: 0.2172 - accuracy: 0.9188\n",
      "313/313 - 0s - loss: 0.3316 - accuracy: 0.8824\n",
      "\n",
      "Train accuracy: 0.9187999963760376\n",
      "Test accuracy: 0.8823999762535095\n"
     ]
    }
   ],
   "source": [
    "#('tanh', 'sigmoid', 'Adam')\n",
    "# Tweaking hidden layers from 128 to 256\n",
    "\n",
    "model = tf.keras.Sequential([\n",
    "    tf.keras.layers.Flatten(input_shape=(28, 28)),\n",
    "    tf.keras.layers.Dense(256, activation='tanh'),\n",
    "    tf.keras.layers.Dense(10, activation='sigmoid')\n",
    "])\n",
    "model.compile(optimizer='Adam',\n",
    "              loss=tf.keras.losses.SparseCategoricalCrossentropy(),\n",
    "              metrics=['accuracy'])\n",
    "\n",
    "history = model.fit(train_images, train_labels, epochs=10)\n",
    "\n",
    "train_loss,train_acc= model.evaluate(train_images,  train_labels, verbose=2)\n",
    "test_loss, test_acc = model.evaluate(test_images,  test_labels, verbose=2)\n",
    "\n",
    "print('\\nTrain accuracy:', train_acc)\n",
    "print('Test accuracy:', test_acc)"
   ]
  },
  {
   "cell_type": "markdown",
   "metadata": {},
   "source": [
    "### Making Predictions"
   ]
  },
  {
   "cell_type": "code",
   "execution_count": 134,
   "metadata": {},
   "outputs": [
    {
     "name": "stdout",
     "output_type": "stream",
     "text": [
      "Model expects the input to be of shape:  (None, 28, 28)\n",
      "Shape of our input:  (28, 28)\n",
      "Shape of our input after adding another dim:  (1, 28, 28)\n",
      "\n",
      "Predicted probabilities:\n",
      " [[0.00666887 0.01923275 0.00865585 0.32888865 0.09176141 0.9994693\n",
      "  0.23525473 0.99967337 0.2890043  0.9999688 ]]\n",
      "\n",
      "Predicted class:  [9]\n",
      "Actual class:  9\n"
     ]
    }
   ],
   "source": [
    "img = test_images[0]\n",
    "\n",
    "# Throws error!!\n",
    "# model.predict(img)\n",
    "print(\"Model expects the input to be of shape: \", model.input.shape)\n",
    "print(\"Shape of our input: \", img.shape)\n",
    "\n",
    "# Adding an extra dimension.\n",
    "img = img[np.newaxis, :, :]\n",
    "print(\"Shape of our input after adding another dim: \", img.shape)\n",
    "\n",
    "# Returns probability of each class\n",
    "print(\"\\nPredicted probabilities:\\n\", model.predict(img))\n",
    "\n",
    "# Returns the predicted class\n",
    "print(\"\\nPredicted class: \", model.predict(img).argmax(axis=1))\n",
    "\n",
    "print(\"Actual class: \", test_labels[0])"
   ]
  },
  {
   "cell_type": "code",
   "execution_count": null,
   "metadata": {},
   "outputs": [],
   "source": []
  }
 ],
 "metadata": {
  "kernelspec": {
   "display_name": "Python 3",
   "language": "python",
   "name": "python3"
  },
  "language_info": {
   "codemirror_mode": {
    "name": "ipython",
    "version": 3
   },
   "file_extension": ".py",
   "mimetype": "text/x-python",
   "name": "python",
   "nbconvert_exporter": "python",
   "pygments_lexer": "ipython3",
   "version": "3.8.10"
  }
 },
 "nbformat": 4,
 "nbformat_minor": 5
}

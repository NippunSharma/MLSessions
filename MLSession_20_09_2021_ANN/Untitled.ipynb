{
 "cells": [
  {
   "cell_type": "markdown",
   "id": "0e93bbac",
   "metadata": {},
   "source": [
    "# Introduction to Deep Learning\n",
    "\n",
    "\n",
    "**What the session is about:**\n",
    "1. Give an introduction to DL / ANN to get you started with them.\n",
    "2. Won't be focussing on maths behind it!\n",
    "3. Focus more on the coding aspect of it.\n",
    "\n",
    "**What do we expect:**\n",
    "1. Go back and try to run this notebook by yourself.\n",
    "2. Play with this notebook --- tweak things here and there.\n",
    "3. Get acquainted with the syntax and libraries.\n",
    "4. See a little bit of theory to get better understanding.\n"
   ]
  },
  {
   "cell_type": "markdown",
   "id": "d120d468",
   "metadata": {},
   "source": [
    "### Building block:- Perceptron\n",
    "\n",
    "- Computation unit. **Input --> Computation --> Output**\n",
    "- Weights are the learnable parameters.\n",
    "- Weights determine importance of input signal in the output signal.\n",
    "\n",
    "<img src=\"perceptron.png\" alt=\"drawing\" width=\"500\"/>\n",
    "\n",
    "### ANN\n",
    "\n",
    "- Stacking a bunch of perceptrons.\n",
    "- Input Layer, Hidden Layer, Output Layer\n",
    "- Hidden Layer --- Extracted features.\n",
    "\n",
    "<img src=\"ann.png\" alt=\"drawing\" width=\"300\"/>\n",
    "\n",
    "### DNN\n",
    "\n",
    "- ANN with lots of hidden layers.\n",
    "\n",
    "<img src=\"deep_nn.jpg\" alt=\"drawing\" width=\"600\"/>\n",
    "\n",
    "1. Image of George Washington given as input.\n",
    "2. Hidden layers extract relevant info from input (features).\n",
    "3. Output layers classifies who the person is."
   ]
  },
  {
   "cell_type": "markdown",
   "id": "ac12a1b7",
   "metadata": {},
   "source": [
    "## Fun part --- Coding !!\n",
    "\n",
    "**Steps in the whole pipeline:**\n",
    "1. Load and explore the data.\n",
    "2. Data Preprocessing\n",
    "3. Build model\n",
    "4. Analyze model and Build it again! (Tweak the hyperparameters to get the best model.)\n",
    "5. Again build the model! (Repeat until you get the best model.)\n",
    "6. Make predictions"
   ]
  },
  {
   "cell_type": "code",
   "execution_count": 1,
   "id": "44f0bdac",
   "metadata": {},
   "outputs": [
    {
     "name": "stdout",
     "output_type": "stream",
     "text": [
      "Init Plugin\n",
      "Init Graph Optimizer\n",
      "Init Kernel\n",
      "2.5.0\n"
     ]
    }
   ],
   "source": [
    "# TensorFlow and tf.keras\n",
    "import tensorflow as tf\n",
    "\n",
    "# Helper libraries\n",
    "import numpy as np\n",
    "import matplotlib.pyplot as plt\n",
    "\n",
    "print(tf.__version__)"
   ]
  },
  {
   "cell_type": "markdown",
   "id": "5ea45bf2",
   "metadata": {},
   "source": [
    "### Fashion MNIST\n",
    "\n",
    "- A dataset containing images of clothing items.\n",
    "- Classification task --- 10 classes.\n"
   ]
  },
  {
   "cell_type": "markdown",
   "id": "dfac8df7",
   "metadata": {},
   "source": [
    "### Data Exploration"
   ]
  },
  {
   "cell_type": "code",
   "execution_count": 2,
   "id": "70355b1a",
   "metadata": {},
   "outputs": [],
   "source": [
    "## Loading the data\n",
    "## (It will download the data when running for the first time.)\n",
    "fashion_mnist = tf.keras.datasets.fashion_mnist\n",
    "\n",
    "(train_images, train_labels), (test_images, test_labels) = fashion_mnist.load_data()"
   ]
  },
  {
   "cell_type": "code",
   "execution_count": 3,
   "id": "b8b59042",
   "metadata": {},
   "outputs": [],
   "source": [
    "class_names = ['T-shirt/top', 'Trouser', 'Pullover', 'Dress', 'Coat',\n",
    "               'Sandal', 'Shirt', 'Sneaker', 'Bag', 'Ankle boot']"
   ]
  },
  {
   "cell_type": "code",
   "execution_count": 4,
   "id": "06a19a5f",
   "metadata": {},
   "outputs": [
    {
     "name": "stdout",
     "output_type": "stream",
     "text": [
      "Shape of training data: (60000, 28, 28)\n",
      "\n",
      "Number of training images: 60000\n",
      "\n",
      "Number of testing images 10000\n",
      "\n",
      "Shape of one image: (28, 28)\n"
     ]
    }
   ],
   "source": [
    "## Overview of dataset.\n",
    "\n",
    "print(\"Shape of training data:\", train_images.shape)\n",
    "print(\"\\nNumber of training images:\", len(train_labels))\n",
    "print(\"\\nNumber of testing images\", len(test_labels))\n",
    "print(\"\\nShape of one image:\", train_images[0].shape)"
   ]
  },
  {
   "cell_type": "code",
   "execution_count": 5,
   "id": "c1f5e459",
   "metadata": {},
   "outputs": [
    {
     "data": {
      "text/plain": [
       "0    6000\n",
       "1    6000\n",
       "2    6000\n",
       "3    6000\n",
       "4    6000\n",
       "5    6000\n",
       "6    6000\n",
       "7    6000\n",
       "8    6000\n",
       "9    6000\n",
       "dtype: int64"
      ]
     },
     "execution_count": 5,
     "metadata": {},
     "output_type": "execute_result"
    }
   ],
   "source": [
    "## Number of images in training data for each category.\n",
    "import pandas as pd\n",
    "pd.Series(train_labels).value_counts().sort_index()"
   ]
  },
  {
   "cell_type": "markdown",
   "id": "b04061a8",
   "metadata": {},
   "source": [
    "### Data Preprocessing"
   ]
  },
  {
   "cell_type": "code",
   "execution_count": 6,
   "id": "c17ee20d",
   "metadata": {},
   "outputs": [
    {
     "data": {
      "image/png": "[encoded data removed]",
      "text/plain": [
       "<Figure size 432x288 with 2 Axes>"
      ]
     },
     "metadata": {
      "needs_background": "light"
     },
     "output_type": "display_data"
    }
   ],
   "source": [
    "plt.figure()\n",
    "plt.imshow(train_images[0])\n",
    "plt.colorbar()\n",
    "plt.grid(False)\n",
    "plt.show()"
   ]
  },
  {
   "cell_type": "code",
   "execution_count": 7,
   "id": "86ec8627",
   "metadata": {},
   "outputs": [],
   "source": [
    "## Scaling the values between [0, 1]\n",
    "\n",
    "## This slightly helps in faster convergence and better accuracy.\n",
    "## [TODO]:: Try training without this scaling and compare the performance.\n",
    "\n",
    "train_images = train_images / 255.0\n",
    "test_images = test_images / 255.0"
   ]
  },
  {
   "cell_type": "markdown",
   "id": "c67637b8",
   "metadata": {},
   "source": [
    "### Build Model\n",
    "\n",
    "1. Define the model.\n",
    "2. Compile it --- specify Loss function, optimizer, evaluation metrics\n",
    "3. Train the model."
   ]
  },
  {
   "cell_type": "code",
   "execution_count": 8,
   "id": "df1a8945",
   "metadata": {},
   "outputs": [
    {
     "name": "stdout",
     "output_type": "stream",
     "text": [
      "Metal device set to: Apple M1\n",
      "Model: \"sequential\"\n",
      "_________________________________________________________________\n",
      "Layer (type)                 Output Shape              Param #   \n",
      "=================================================================\n",
      "flatten (Flatten)            (None, 784)               0         \n",
      "_________________________________________________________________\n",
      "dense (Dense)                (None, 128)               100480    \n",
      "_________________________________________________________________\n",
      "dense_1 (Dense)              (None, 10)                1290      \n",
      "=================================================================\n",
      "Total params: 101,770\n",
      "Trainable params: 101,770\n",
      "Non-trainable params: 0\n",
      "_________________________________________________________________\n"
     ]
    },
    {
     "name": "stderr",
     "output_type": "stream",
     "text": [
      "2021-09-18 23:00:06.839279: I tensorflow/core/common_runtime/pluggable_device/pluggable_device_factory.cc:305] Could not identify NUMA node of platform GPU ID 0, defaulting to 0. Your kernel may not have been built with NUMA support.\n",
      "2021-09-18 23:00:06.839352: I tensorflow/core/common_runtime/pluggable_device/pluggable_device_factory.cc:271] Created TensorFlow device (/job:localhost/replica:0/task:0/device:GPU:0 with 0 MB memory) -> physical PluggableDevice (device: 0, name: METAL, pci bus id: <undefined>)\n"
     ]
    }
   ],
   "source": [
    "## 1. Defining the model.\n",
    "\n",
    "model = tf.keras.Sequential([\n",
    "    ## Flatten the input image from 2D into 1D. (Input Layer)\n",
    "    ## Input shape based on the dataset image.\n",
    "    ## All images must be of same shape!!!\n",
    "    tf.keras.layers.Flatten(input_shape=(28, 28)),\n",
    "    ## Hidden Layer\n",
    "    tf.keras.layers.Dense(128, activation='relu'),\n",
    "    ## Output layer --- size = number of classes = 10\n",
    "    ## Softmax activation function gives the probability of each class\n",
    "    tf.keras.layers.Dense(10, activation='softmax')\n",
    "])\n",
    "\n",
    "## Activation function is a non linear function which is applied to each layer in the network.\n",
    "\n",
    "model.summary()"
   ]
  },
  {
   "cell_type": "code",
   "execution_count": 9,
   "id": "a59e1199",
   "metadata": {},
   "outputs": [],
   "source": [
    "## 2. Compile the model.\n",
    "\n",
    "model.compile(optimizer='adam',  # Optimizer --- an algorithm which tries to learn weights of the network.\n",
    "              # Loss --- measures the error in prediction.\n",
    "              loss=tf.keras.losses.SparseCategoricalCrossentropy(),\n",
    "              # Metric --- calculates how good the model is performing.\n",
    "              metrics=['accuracy'])"
   ]
  },
  {
   "cell_type": "code",
   "execution_count": 10,
   "id": "f4f53027",
   "metadata": {},
   "outputs": [
    {
     "name": "stdout",
     "output_type": "stream",
     "text": [
      "Epoch 1/2\n"
     ]
    },
    {
     "name": "stderr",
     "output_type": "stream",
     "text": [
      "2021-09-18 23:00:06.930575: I tensorflow/compiler/mlir/mlir_graph_optimization_pass.cc:176] None of the MLIR Optimization Passes are enabled (registered 2)\n",
      "2021-09-18 23:00:06.930755: W tensorflow/core/platform/profile_utils/cpu_utils.cc:128] Failed to get CPU frequency: 0 Hz\n",
      "2021-09-18 23:00:07.023314: I tensorflow/core/grappler/optimizers/custom_graph_optimizer_registry.cc:112] Plugin optimizer for device_type GPU is enabled.\n"
     ]
    },
    {
     "name": "stdout",
     "output_type": "stream",
     "text": [
      "1875/1875 [==============================] - 7s 4ms/step - loss: 0.5061 - accuracy: 0.8224\n",
      "Epoch 2/2\n",
      "1875/1875 [==============================] - 7s 4ms/step - loss: 0.3791 - accuracy: 0.8636\n"
     ]
    }
   ],
   "source": [
    "## 3. Training the model.\n",
    "\n",
    "## Epochs is the number of passes the model takes over the dataset.\n",
    "## History object stores all the information about the model\n",
    "history = model.fit(train_images, train_labels, epochs=2)"
   ]
  },
  {
   "cell_type": "markdown",
   "id": "84ae242e",
   "metadata": {},
   "source": [
    "**The above accuracy is the accuracy on training data which the model has already seen.**"
   ]
  },
  {
   "cell_type": "markdown",
   "id": "58425134",
   "metadata": {},
   "source": [
    "### Analyze Model (Very Very Imp.)\n",
    "\n",
    "<pre><strong>Key Question to ask:     What to do once a model is trained??</strong></pre>\n",
    "\n",
    "- Check accuracy / loss or any other metric.\n",
    "- Check Generalizability of model (performance on test data)\n",
    "- Bias / Variance Tradeoff\n",
    "\n",
    "<br>\n",
    "<br>\n",
    "\n",
    "Bias = 100 - train_acc\n",
    "\n",
    "Variance = train_acc - test_acc\n",
    "\n",
    "|               | Train Acc High         | Train Acc Low                      |\n",
    "|---------------|------------------------|------------------------------------|\n",
    "| Test High Acc | Low bias, Low var      | High bias, High var (not possible) |\n",
    "| Test Low Acc  | Low bias, High var     | High bias, Low var                 |\n",
    "\n",
    "\n",
    "\n",
    "Ask yourself question:-\n",
    "\n",
    "1. Is the bias high?\n",
    "        - Bigger network\n",
    "        - Train longer (more epochs)\n",
    "2. Is variance high?\n",
    "        - Get more data\n",
    "        - Add regularization\n",
    "           "
   ]
  },
  {
   "cell_type": "code",
   "execution_count": 11,
   "id": "fd30587a",
   "metadata": {},
   "outputs": [
    {
     "name": "stdout",
     "output_type": "stream",
     "text": [
      "dict_keys(['loss', 'accuracy'])\n"
     ]
    },
    {
     "data": {
      "image/png": "[encoded data removed]",
      "text/plain": [
       "<Figure size 864x288 with 2 Axes>"
      ]
     },
     "metadata": {
      "needs_background": "light"
     },
     "output_type": "display_data"
    }
   ],
   "source": [
    "print(history.history.keys())\n",
    "\n",
    "fig, axes = plt.subplots(1, 2, figsize=(12, 4))\n",
    "#  \"Accuracy\"\n",
    "axes[0].plot(history.history['accuracy'])\n",
    "axes[0].set_title('model train accuracy')\n",
    "axes[0].set_ylabel('accuracy')\n",
    "axes[0].set_xlabel('epoch')\n",
    "\n",
    "# \"Loss\"\n",
    "axes[1].plot(history.history['loss'])\n",
    "axes[1].set_title('model train loss')\n",
    "axes[1].set_ylabel('loss')\n",
    "axes[1].set_xlabel('epoch');"
   ]
  },
  {
   "cell_type": "code",
   "execution_count": 12,
   "id": "9a919fe1",
   "metadata": {},
   "outputs": [
    {
     "name": "stderr",
     "output_type": "stream",
     "text": [
      "2021-09-18 23:00:20.942100: I tensorflow/core/grappler/optimizers/custom_graph_optimizer_registry.cc:112] Plugin optimizer for device_type GPU is enabled.\n"
     ]
    },
    {
     "name": "stdout",
     "output_type": "stream",
     "text": [
      "313/313 - 1s - loss: 0.4011 - accuracy: 0.8565\n",
      "\n",
      "Test accuracy: 0.8565000295639038\n"
     ]
    }
   ],
   "source": [
    "test_loss, test_acc = model.evaluate(test_images,  test_labels, verbose=2)\n",
    "\n",
    "## Better test accuracy => better generalization.\n",
    "print('\\nTest accuracy:', test_acc)"
   ]
  },
  {
   "cell_type": "markdown",
   "id": "8b91d8b9",
   "metadata": {},
   "source": [
    "### Build Model Again\n",
    "\n",
    "- Deep Learning is an iterative process.\n",
    "- Try different hyperparameters.\n",
    "- Analyze the model."
   ]
  },
  {
   "cell_type": "code",
   "execution_count": 13,
   "id": "73a93e5d",
   "metadata": {},
   "outputs": [],
   "source": [
    "## [TODO]:: Try different values for the following and analyze the model:\n",
    "##    1. Number of layers\n",
    "##    2. Number of perceptrons in each layer\n",
    "##    3. Activation Functions for each layer\n",
    "##    4. Optimizer\n",
    "##    5. Loss function\n",
    "\n",
    "\n",
    "## Some commonly used optimizers:\n",
    "##   1. Adam\n",
    "##   2. RMSProp\n",
    "##   3. SGD (Stochastic Gradient Descent)\n",
    "\n",
    "## https://www.tensorflow.org/api_docs/python/tf/keras/optimizers\n",
    "\n",
    "## Some commonly used loss functions:\n",
    "##   1. Binary Cross Entropy (Binary Classification)\n",
    "##   2. Categorical Cross Entropy (Multiclass Classification, One hot encoded labels)\n",
    "##   3. Sparse Categorical Cross Entropy (Multiclass classification, Integer Labels)\n",
    "##   4. Mean Squared Error (Regression)\n",
    "##   5. Mean Absolute Error (Regression)\n",
    "\n",
    "## https://www.tensorflow.org/api_docs/python/tf/keras/losses\n",
    "\n",
    "## Some commonly used activation functions:\n",
    "##   1. Relu\n",
    "##   2. Sigmoid\n",
    "##   3. Tanh\n",
    "##   4. Softmax (mostly used for the output layer of classification)\n",
    "\n",
    "## https://www.tensorflow.org/api_docs/python/tf/keras/activations"
   ]
  },
  {
   "cell_type": "markdown",
   "id": "ced77fe7",
   "metadata": {},
   "source": [
    "### Making Predictions"
   ]
  },
  {
   "cell_type": "code",
   "execution_count": 14,
   "id": "4ad6cfcf",
   "metadata": {},
   "outputs": [
    {
     "name": "stdout",
     "output_type": "stream",
     "text": [
      "Model expects the input to be of shape:  (None, 28, 28)\n",
      "Shape of our input:  (28, 28)\n",
      "Shape of our input after adding another dim:  (1, 28, 28)\n",
      "\n",
      "Predicted probabilities:\n",
      " [[5.1946077e-05 2.6259754e-06 3.5959460e-05 1.9826541e-05 1.8954875e-05\n",
      "  1.3932858e-02 2.7215632e-04 9.4237767e-02 5.4873787e-03 8.8594037e-01]]\n",
      "\n",
      "Predicted class:  [9]\n",
      "Actual class:  9\n"
     ]
    },
    {
     "name": "stderr",
     "output_type": "stream",
     "text": [
      "2021-09-18 23:00:21.819715: I tensorflow/core/grappler/optimizers/custom_graph_optimizer_registry.cc:112] Plugin optimizer for device_type GPU is enabled.\n"
     ]
    }
   ],
   "source": [
    "img = test_images[0]\n",
    "\n",
    "# Throws error!!\n",
    "# model.predict(img)\n",
    "print(\"Model expects the input to be of shape: \", model.input.shape)\n",
    "print(\"Shape of our input: \", img.shape)\n",
    "\n",
    "# Adding an extra dimension.\n",
    "img = img[np.newaxis, :, :]\n",
    "print(\"Shape of our input after adding another dim: \", img.shape)\n",
    "\n",
    "# Returns probability of each class\n",
    "print(\"\\nPredicted probabilities:\\n\", model.predict(img))\n",
    "\n",
    "# Returns the predicted class\n",
    "print(\"\\nPredicted class: \", model.predict(img).argmax(axis=1))\n",
    "\n",
    "print(\"Actual class: \", test_labels[0])"
   ]
  },
  {
   "cell_type": "code",
   "execution_count": null,
   "id": "0a84acff",
   "metadata": {},
   "outputs": [],
   "source": []
  }
 ],
 "metadata": {
  "kernelspec": {
   "display_name": "Python 3 (ipykernel)",
   "language": "python",
   "name": "python3"
  },
  "language_info": {
   "codemirror_mode": {
    "name": "ipython",
    "version": 3
   },
   "file_extension": ".py",
   "mimetype": "text/x-python",
   "name": "python",
   "nbconvert_exporter": "python",
   "pygments_lexer": "ipython3",
   "version": "3.9.6"
  }
 },
 "nbformat": 4,
 "nbformat_minor": 5
}

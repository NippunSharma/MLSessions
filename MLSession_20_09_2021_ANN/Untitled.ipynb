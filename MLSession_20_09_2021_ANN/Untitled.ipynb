{
 "cells": [
  {
   "cell_type": "markdown",
   "id": "0e93bbac",
   "metadata": {},
   "source": [
    "# Introduction to Deep Learning\n",
    "\n",
    "\n",
    "**What the session is about:**\n",
    "1. Give an introduction to DL / ANN to get you started with them.\n",
    "2. Won't be focussing on maths behin it!\n",
    "3. Focus more on the coding aspect of it.\n",
    "\n",
    "**What do we expect:**\n",
    "1. Go back and try to run this notebook by yourself.\n",
    "2. Play with this notebook --- tweak things here and there.\n",
    "3. Get acquainted with the syntax and libraries.\n",
    "4. See a little bit of theory to get better understanding.\n"
   ]
  },
  {
   "cell_type": "markdown",
   "id": "d120d468",
   "metadata": {},
   "source": [
    "### Building block:- Perceptron\n",
    "\n",
    "- Computation unit. **Input --> Computation --> Output**\n",
    "- Weights are the learnable parameters.\n",
    "- Weights determine importance of input signal in the output signal.\n",
    "\n",
    "<img src=\"perceptron.png\" alt=\"drawing\" width=\"500\"/>\n",
    "\n",
    "### ANN\n",
    "\n",
    "- Stacking a bunch of perceptrons.\n",
    "- Input Layer, Hidden Layer, Output Layer\n",
    "- Hidden Layer --- Extracted features.\n",
    "\n",
    "<img src=\"ann.png\" alt=\"drawing\" width=\"300\"/>\n",
    "\n",
    "### DNN\n",
    "\n",
    "- ANN with lots of hidden layers.\n",
    "\n",
    "<img src=\"deep_nn.jpg\" alt=\"drawing\" width=\"600\"/>\n",
    "\n",
    "1. Image of George Washington given as input.\n",
    "2. Hidden layers extract relevant info from input (features).\n",
    "3. Output layers classifies who the person is."
   ]
  },
  {
   "cell_type": "markdown",
   "id": "ac12a1b7",
   "metadata": {},
   "source": [
    "## Fun part --- Coding !!\n",
    "\n",
    "activation function in model definition.\n",
    "loss function in model.compile\n",
    "\n"
   ]
  },
  {
   "cell_type": "code",
   "execution_count": null,
   "id": "122f4ea9",
   "metadata": {},
   "outputs": [],
   "source": []
  },
  {
   "cell_type": "code",
   "execution_count": null,
   "id": "44f0bdac",
   "metadata": {},
   "outputs": [],
   "source": []
  }
 ],
 "metadata": {
  "kernelspec": {
   "display_name": "Python 3 (ipykernel)",
   "language": "python",
   "name": "python3"
  },
  "language_info": {
   "codemirror_mode": {
    "name": "ipython",
    "version": 3
   },
   "file_extension": ".py",
   "mimetype": "text/x-python",
   "name": "python",
   "nbconvert_exporter": "python",
   "pygments_lexer": "ipython3",
   "version": "3.9.6"
  }
 },
 "nbformat": 4,
 "nbformat_minor": 5
}
